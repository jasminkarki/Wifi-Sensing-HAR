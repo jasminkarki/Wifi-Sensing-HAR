{
 "cells": [
  {
   "cell_type": "markdown",
   "metadata": {},
   "source": [
    "### Necessary Imports"
   ]
  },
  {
   "cell_type": "code",
   "execution_count": 1,
   "metadata": {},
   "outputs": [],
   "source": [
    "import numpy as np\n",
    "import pandas as pd\n",
    "import matplotlib.pyplot as plt\n",
    "from tqdm import tqdm\n",
    "import math\n",
    "from sklearn.decomposition import PCA\n",
    "from sklearn.preprocessing import StandardScaler\n",
    "from sklearn.model_selection import train_test_split\n",
    "from sklearn.svm import SVC\n",
    "from sklearn.metrics import confusion_matrix\n",
    "from sklearn.neighbors import KNeighborsClassifier\n",
    "from tensorflow.keras.models import Sequential\n",
    "# from keras.layers.convolutional import Conv1D\n",
    "# from keras.layers.convolutional import MaxPooling1D\n",
    "from keras.utils import to_categorical\n",
    "from tensorflow.keras.layers import Dense, Dropout, Flatten, Conv1D, Conv2D, MaxPooling1D,MaxPooling2D, LSTM\n"
   ]
  },
  {
   "attachments": {},
   "cell_type": "markdown",
   "metadata": {},
   "source": [
    "### Load Dataset"
   ]
  },
  {
   "attachments": {},
   "cell_type": "markdown",
   "metadata": {},
   "source": [
    "## Github Data"
   ]
  },
  {
   "cell_type": "code",
   "execution_count": 2,
   "metadata": {},
   "outputs": [],
   "source": [
    "def moving_average(df, window_size):\n",
    "    \"\"\"\"\n",
    "    Compute the moving average with a window of size specified\n",
    "    \"\"\"\n",
    "\n",
    "    rolling_mean = df.rolling(window=window_size).mean()\n",
    "    downsampled = rolling_mean.iloc[window_size::window_size, :]\n",
    "    return downsampled"
   ]
  },
  {
   "cell_type": "code",
   "execution_count": 3,
   "metadata": {},
   "outputs": [],
   "source": [
    "import os\n",
    "\n",
    "def read_files(data_path):\n",
    "    # current_path = os.path.dirname(os.path.abspath(__file__))\n",
    "    # data_path = os.path.join(current_path, '/data/dl_data')\n",
    "\n",
    "    # Create an empty list to store the dataframes\n",
    "    dfs = []\n",
    "    labels = []\n",
    "    min = 0\n",
    "    max = 128\n",
    "    start_sample = 5000\n",
    "    end_sample = 10000\n",
    "    window_size = 20\n",
    "\n",
    "    # Loop over files in the folder\n",
    "    for filename in tqdm(os.listdir(data_path)):\n",
    "\n",
    "        # Get the full path of the file\n",
    "        file_path = os.path.join(data_path, filename)\n",
    "\n",
    "        # If file exists then start operating\n",
    "        if os.path.isfile(file_path):\n",
    "\n",
    "            # Read file without header as there is no column name\n",
    "            df = pd.read_csv(file_path,header=None)\n",
    "            \n",
    "            # Remove first column i.e. timestamp. Then select 64 subcarriers\n",
    "            # Perform moving average of 10 rows\n",
    "            df = moving_average(df.iloc[start_sample:end_sample+1, min+1:max+1],window_size)  \n",
    "            \n",
    "            # Store label based on the file selected\n",
    "            if \"standup\" in file_path:\n",
    "                labels.append(\"StandUp\")\n",
    "            elif \"sitdown\" in file_path:\n",
    "                labels.append(\"SitDown\")\n",
    "            elif \"walk\" in file_path:\n",
    "                labels.append(\"Walk\")\n",
    "            elif \"run\" in file_path:\n",
    "                labels.append(\"Run\")\n",
    "\n",
    "            # Append the new dataframe to the list        \n",
    "            dfs.append(df.values.tolist())\n",
    "    return dfs, labels"
   ]
  },
  {
   "cell_type": "code",
   "execution_count": 4,
   "metadata": {},
   "outputs": [
    {
     "name": "stderr",
     "output_type": "stream",
     "text": [
      "100%|██████████| 319/319 [05:06<00:00,  1.04it/s]\n"
     ]
    }
   ],
   "source": [
    "data_path = \"C:\\\\Users\\\\Dell\\\\Documents\\\\Wifi-Sensing-HAR\\\\data\\\\dl_data\"\n",
    "data, labels = read_files(data_path)"
   ]
  },
  {
   "cell_type": "code",
   "execution_count": 5,
   "metadata": {},
   "outputs": [
    {
     "name": "stdout",
     "output_type": "stream",
     "text": [
      "319 319\n"
     ]
    }
   ],
   "source": [
    "print(len(data), len(labels))"
   ]
  },
  {
   "cell_type": "code",
   "execution_count": 6,
   "metadata": {},
   "outputs": [
    {
     "data": {
      "text/plain": [
       "(250, 128)"
      ]
     },
     "execution_count": 6,
     "metadata": {},
     "output_type": "execute_result"
    }
   ],
   "source": [
    "target_shape = np.array(data[0]).shape\n",
    "target_shape"
   ]
  },
  {
   "cell_type": "code",
   "execution_count": 7,
   "metadata": {},
   "outputs": [
    {
     "name": "stderr",
     "output_type": "stream",
     "text": [
      "100%|██████████| 319/319 [00:48<00:00,  6.56it/s]\n"
     ]
    }
   ],
   "source": [
    "def convert_csi_to_amplitude_phase(list_of_df):\n",
    "    total_amplitudes = []\n",
    "    total_phases = []\n",
    "    # csi_string =my_Dataframe.tolist()\n",
    "    csi_string = list_of_df\n",
    "\n",
    "    for i, value in enumerate(csi_string):\n",
    "        imaginary = []\n",
    "        real = []\n",
    "        amplitudes = [] \n",
    "        phases = []\n",
    "        min=0\n",
    "        max=128\n",
    "        \n",
    "        if \"[\" in value:\n",
    "            # Remove [ and ] if exists\n",
    "            value = value.strip(\"[]\")\n",
    "\n",
    "            # Parse string to create integer list\n",
    "            csi_raw = [int(x) for x in value.split(\" \") if x != ''][min:max]\n",
    "            # csi_raw = [float(x) for x in value.split(\",\") if x!='']  # New\n",
    "        else:\n",
    "            csi_raw = value[min:max]\n",
    "\n",
    "        # Create list of imaginary and real numbers from CSI\n",
    "        [imaginary.append(csi_raw[item]) if item%2==0 else real.append(csi_raw[item]) for item in range(len(csi_raw))]\n",
    "\n",
    "        # Transform imaginary and real into amplitude and phase\n",
    "        val = int(len(csi_raw)//2)\n",
    "        for k in range(val):\n",
    "            amplitudes.append(round(math.sqrt(float(imaginary[k])** 2 + float(real[k])** 2),4))\n",
    "            phases.append(round(math.atan2(float(imaginary[k]), float(real[k])),4))\n",
    "        total_amplitudes.append(np.array(amplitudes).flatten())\n",
    "        total_phases.append(np.array(phases).flatten())\n",
    "        # print(\"-------------------\")\n",
    "        # print(\"Csi_Amplitude#{}:\".format(i), amplitudes)\n",
    "        # print(\"Csi_Phase#{}:    \".format(i), phases)\n",
    "        \n",
    "    return total_amplitudes, total_phases\n",
    "\n",
    "# ## Amplitude Difference\n",
    "# df = pd.DataFrame(np.vstack(total_amplitudes))\n",
    "# diff_df = df.diff()[1:]   # Inorder to remove NaN values\n",
    "# df.iloc[:,4:61]\n",
    "\n",
    "amplitudes = []\n",
    "phases = []\n",
    "for df in tqdm(data):\n",
    "    amps, phase = convert_csi_to_amplitude_phase(df)\n",
    "    shape_amp = np.array(amps).shape\n",
    "    ## Make data uniform\n",
    "    amps = amps[:target_shape[0]]\n",
    "    # amp_df = pd.DataFrame(np.vstack(amps))\n",
    "    # phase_df = pd.DataFrame(np.vstack(phase))\n",
    "    amplitudes.append(amps)\n",
    "    phases.append(phase)"
   ]
  },
  {
   "attachments": {},
   "cell_type": "markdown",
   "metadata": {},
   "source": [
    "-------"
   ]
  },
  {
   "attachments": {},
   "cell_type": "markdown",
   "metadata": {},
   "source": [
    "### Load and find time differences of data samples of Github Data"
   ]
  },
  {
   "cell_type": "code",
   "execution_count": 8,
   "metadata": {},
   "outputs": [
    {
     "name": "stdout",
     "output_type": "stream",
     "text": [
      "0.0010000000000012221 0.0009999999999976694 0.001 1.505225610897138e-15\n"
     ]
    },
    {
     "data": {
      "image/png": "[encoded data removed]",
      "text/plain": [
       "<Figure size 640x480 with 1 Axes>"
      ]
     },
     "metadata": {},
     "output_type": "display_data"
    }
   ],
   "source": [
    "fall = pd.read_csv(\"data/input_fall_170314_0934_12.csv\",header=None)\n",
    "# fall_label = pd.read_csv(\"data/annotation_fall_170314_0934_12.csv\",header=None,names=['label'])\n",
    "\n",
    "# new_fall = pd.concat([fall, fall_label], axis=1)\n",
    "# new_fall.head()\n",
    "\n",
    "diffs = np.diff(fall[0])\n",
    "plt.hist(diffs)\n",
    "\n",
    "print(np.max(diffs),np.min(diffs),np.mean(diffs),np.std(diffs))"
   ]
  },
  {
   "cell_type": "code",
   "execution_count": 9,
   "metadata": {},
   "outputs": [],
   "source": [
    "def moving_average(df, window_size):\n",
    "    \"\"\"\"\n",
    "    Compute the moving average with a window of size specified\n",
    "    \"\"\"\n",
    "\n",
    "    rolling_mean = df.rolling(window=window_size).mean()\n",
    "    downsampled = rolling_mean.iloc[window_size::window_size, :]\n",
    "    return downsampled\n",
    "\n",
    "# req_df = fall.iloc[:, 1:-1]  # First column is timestamp"
   ]
  },
  {
   "cell_type": "code",
   "execution_count": 10,
   "metadata": {},
   "outputs": [
    {
     "data": {
      "text/plain": [
       "(250, 64)"
      ]
     },
     "execution_count": 10,
     "metadata": {},
     "output_type": "execute_result"
    }
   ],
   "source": [
    "np.array(amplitudes[0]).shape"
   ]
  },
  {
   "cell_type": "markdown",
   "metadata": {},
   "source": [
    "### Raw Samples Plot\n"
   ]
  },
  {
   "cell_type": "code",
   "execution_count": null,
   "metadata": {},
   "outputs": [],
   "source": [
    "### Select one antenna 0-60 and timeframe where activity occured.\n",
    "def raw_sample_plot(downsampled):\n",
    "    # low_range = int(len(downsampled)/5)\n",
    "    # high_range = int(len(downsampled)/5*2.5)\n",
    "    # data = downsampled.iloc[low_range:high_range,0:60]\n",
    "    raw_sample = downsampled\n",
    "\n",
    "    fig1 = plt.figure(figsize = (18,20))\n",
    "\n",
    "    ax1 = plt.subplot(611)\n",
    "    plt.plot(raw_sample.iloc[:,0],'r')\n",
    "    plt.plot(raw_sample.iloc[:,1],'g')\n",
    "    plt.plot(raw_sample.iloc[:,2],'b')\n",
    "    plt.plot(raw_sample.iloc[:,3],'cyan')\n",
    "    plt.plot(raw_sample.iloc[:,4],'brown')\n",
    "    ax1.set_title(\"Signal Value 1 to 5 subcarrier\")\n",
    "\n",
    "    ax2 = plt.subplot(612)\n",
    "    plt.plot(raw_sample.iloc[:,5],'r')\n",
    "    plt.plot(raw_sample.iloc[:,6],'g')\n",
    "    plt.plot(raw_sample.iloc[:,7],'b')\n",
    "    plt.plot(raw_sample.iloc[:,8],'cyan')\n",
    "    plt.plot(raw_sample.iloc[:,9],'brown')\n",
    "    ax2.set_title(\"Signal Value 6 to 10 subcarrier\")\n",
    "\n",
    "    ax3 = plt.subplot(613)\n",
    "    plt.plot(raw_sample.iloc[:,10],'r')\n",
    "    plt.plot(raw_sample.iloc[:,11],'g')\n",
    "    plt.plot(raw_sample.iloc[:,12],'b')\n",
    "    plt.plot(raw_sample.iloc[:,13],'cyan')\n",
    "    plt.plot(raw_sample.iloc[:,14],'brown')\n",
    "    ax3.set_title(\"Signal Value 11 to 15 subcarrier\")\n",
    "\n",
    "    ax4 = plt.subplot(614)\n",
    "    plt.plot(raw_sample.iloc[:,15],'r')\n",
    "    plt.plot(raw_sample.iloc[:,16],'g')\n",
    "    plt.plot(raw_sample.iloc[:,17],'b')\n",
    "    plt.plot(raw_sample.iloc[:,18],'cyan')\n",
    "    plt.plot(raw_sample.iloc[:,19],'brown')\n",
    "    ax4.set_title(\"Signal Value 16 to 20 subcarrier\")\n",
    "\n",
    "    ax5 = plt.subplot(615)\n",
    "    plt.plot(raw_sample.iloc[:,20],'r')\n",
    "    plt.plot(raw_sample.iloc[:,21],'g')\n",
    "    plt.plot(raw_sample.iloc[:,22],'b')\n",
    "    plt.plot(raw_sample.iloc[:,23],'cyan')\n",
    "    plt.plot(raw_sample.iloc[:,24],'brown')\n",
    "    ax5.set_title(\"Signal Value 21 to 25 subcarrier\")\n",
    "\n",
    "    ax6 = plt.subplot(616)\n",
    "    plt.plot(raw_sample.iloc[:,25],'r')\n",
    "    plt.plot(raw_sample.iloc[:,26],'g')\n",
    "    plt.plot(raw_sample.iloc[:,27],'b')\n",
    "    plt.plot(raw_sample.iloc[:,28],'cyan')\n",
    "    plt.plot(raw_sample.iloc[:,29],'brown')\n",
    "    ax6.set_title(\"Signal Value 25 to 30 subcarrier\")\n",
    "\n",
    "    plt.show()"
   ]
  },
  {
   "cell_type": "code",
   "execution_count": null,
   "metadata": {},
   "outputs": [],
   "source": [
    "### Create a df of the list of list and make visualization\n",
    "for lst in amplitudes:\n",
    "    df = pd.DataFrame(np.vstack(lst))\n",
    "    # diff_df = df.diff()[1:]   # Inorder to remove NaN values\n",
    "    raw_sample_plot(df.iloc[:,4:61])\n",
    "    break\n",
    "    \n",
    "    "
   ]
  },
  {
   "cell_type": "code",
   "execution_count": null,
   "metadata": {},
   "outputs": [],
   "source": [
    "for lst in phases:\n",
    "    df = pd.DataFrame(np.vstack(lst))\n",
    "    # diff_df = df.diff()[1:]   # Inorder to remove NaN values\n",
    "    raw_sample_plot(df.iloc[:,4:61])\n",
    "    break"
   ]
  },
  {
   "attachments": {},
   "cell_type": "markdown",
   "metadata": {},
   "source": [
    "### PCA Visualization"
   ]
  },
  {
   "cell_type": "code",
   "execution_count": null,
   "metadata": {},
   "outputs": [],
   "source": [
    "### Select one antenna 0-60 and timeframe where activity occured.\n",
    "from sklearn.decomposition import PCA\n",
    "\n",
    "def pca_visualization(downsampled):\n",
    "    # low_range = int(len(downsampled)/5)\n",
    "    # high_range = int(len(downsampled)/5*2.5)\n",
    "    # data = downsampled.iloc[low_range:high_range,0:60]\n",
    "    data = downsampled\n",
    "    pca = PCA(n_components=5)\n",
    "    pca.fit(data)\n",
    "    new_sample = pca.transform(data)\n",
    "    new_sample\n",
    "\n",
    "    fig2 = plt.figure(figsize = (18,20))\n",
    "\n",
    "    ax1 = plt.subplot(611)\n",
    "    plt.plot(new_sample[:,0])\n",
    "    ax1.set_title(\"PCA 1st component\")\n",
    "\n",
    "    ax2 = plt.subplot(612)\n",
    "    plt.plot(new_sample[:,1])\n",
    "    ax2.set_title(\"PCA 2nd component\")\n",
    "\n",
    "    ax3 = plt.subplot(613)\n",
    "    plt.plot(new_sample[:,2])\n",
    "    ax3.set_title(\"PCA 3rd component\")\n",
    "\n",
    "    ax4 = plt.subplot(614)\n",
    "    plt.plot(new_sample[:,3])\n",
    "    ax4.set_title(\"PCA 4th component\")\n",
    "\n",
    "    ax5 = plt.subplot(615)\n",
    "    plt.plot(new_sample[:,4])\n",
    "    ax5.set_title(\"PCA 5th component\")\n",
    "\n",
    "    # ax6 = plt.subplot(616)\n",
    "    # plt.plot(new_sample[:,5])\n",
    "    # ax6.set_title(\"PCA 6th component\")\n",
    "\n",
    "    plt.show()"
   ]
  },
  {
   "cell_type": "code",
   "execution_count": null,
   "metadata": {},
   "outputs": [],
   "source": [
    "### Create a df of the list of list and make visualization\n",
    "for lst in amplitudes:\n",
    "    df = pd.DataFrame(np.vstack(lst))\n",
    "    # diff_df = df.diff()[1:]   # Inorder to remove NaN values\n",
    "    pca_visualization(df.iloc[:,4:61])\n",
    "    break"
   ]
  },
  {
   "cell_type": "code",
   "execution_count": null,
   "metadata": {},
   "outputs": [],
   "source": [
    "### Create a df of the list of list and make visualization\n",
    "for lst in phases:\n",
    "    df = pd.DataFrame(np.vstack(lst))\n",
    "    # diff_df = df.diff()[1:]   # Inorder to remove NaN values\n",
    "    pca_visualization(df.iloc[:,4:61])\n",
    "    break"
   ]
  },
  {
   "cell_type": "markdown",
   "metadata": {},
   "source": [
    "### Number of components to select for PCA\n"
   ]
  },
  {
   "cell_type": "code",
   "execution_count": 13,
   "metadata": {},
   "outputs": [
    {
     "data": {
      "image/png": "[encoded data removed]",
      "text/plain": [
       "<Figure size 1000x400 with 2 Axes>"
      ]
     },
     "metadata": {},
     "output_type": "display_data"
    }
   ],
   "source": [
    "import numpy as np\n",
    "import matplotlib.pyplot as plt\n",
    "from sklearn.datasets import load_digits\n",
    "from sklearn.decomposition import PCA\n",
    "\n",
    "# load the dataset\n",
    "# fit the PCA model with different numbers of principal components\n",
    "pca = PCA()\n",
    "scaler = StandardScaler()\n",
    "flattened_amps = [np.array(amp).reshape(-1) for amp in amplitudes]\n",
    "scaled_data = scaler.fit_transform(np.array(flattened_amps))\n",
    "pca.fit(scaled_data)\n",
    "cumulative_variance = np.cumsum(pca.explained_variance_ratio_)\n",
    "n_components = range(1, pca.n_components_+1)\n",
    "\n",
    "# plot the scree plot and cumulative variance plot\n",
    "fig, ax = plt.subplots(1, 2, figsize=(10, 4))\n",
    "ax[0].plot(n_components, pca.explained_variance_ratio_, 'bo-', linewidth=0.5)\n",
    "ax[0].set_title('Scree Plot')\n",
    "ax[0].set_xlabel('Principal Component')\n",
    "ax[0].set_ylabel('Proportion of Variance Explained')\n",
    "\n",
    "ax[1].plot(n_components, cumulative_variance, 'ro-', linewidth=0.5)\n",
    "ax[1].set_title('Cumulative Variance Plot')\n",
    "ax[1].set_xlabel('Principal Component')\n",
    "ax[1].set_ylabel('Cumulative Proportion of Variance Explained')\n",
    "\n",
    "# find the ideal number of principal components based on the elbow method\n",
    "diff = np.diff(pca.explained_variance_ratio_)\n",
    "elbow = np.argmax(diff) + 1"
   ]
  },
  {
   "cell_type": "markdown",
   "metadata": {},
   "source": [
    "### Model Creation Git Data"
   ]
  },
  {
   "cell_type": "code",
   "execution_count": 14,
   "metadata": {},
   "outputs": [],
   "source": [
    "def load_data(filename):\n",
    "    \"\"\"\n",
    "    Load data from a file.\n",
    "    \"\"\"\n",
    "    data = np.loadtxt(filename, delimiter=\",\")\n",
    "    X = data[:, :-1]\n",
    "    y = data[:, -1]\n",
    "    return X, y\n",
    "\n",
    "\n",
    "def preprocess_data(X):\n",
    "    \"\"\"\n",
    "    Preprocess data by scaling it using StandardScaler.\n",
    "    \"\"\"\n",
    "    scaler = StandardScaler()\n",
    "    X = scaler.fit_transform(np.array(X))\n",
    "    return scaler, X\n",
    "\n",
    "def perform_pca(X, n_components):\n",
    "    \"\"\"\n",
    "    Perform PCA on the data.\n",
    "    \"\"\"\n",
    "    pca = PCA(n_components=n_components)\n",
    "    pca.fit(X)\n",
    "    new_sample = pca.transform(X)\n",
    "    return pca, new_sample\n",
    "\n",
    "def train_test_split_data(X, y, test_size=0.2, random_state=42):\n",
    "    \"\"\"\n",
    "    Split data into training and testing sets.\n",
    "    \"\"\"\n",
    "    X_train, X_test, y_train, y_test = train_test_split(X, y, test_size=test_size, random_state=random_state)\n",
    "    return X_train, X_test, y_train, y_test\n",
    "\n",
    "\n",
    "def train_svm(X_train, y_train):\n",
    "    \"\"\"\n",
    "    Train SVM model using the training data.\n",
    "    \"\"\"\n",
    "    svm = SVC()\n",
    "    svm.fit(X_train, y_train)\n",
    "    return svm\n",
    "\n",
    "\n",
    "def train_knn(X_train, y_train):\n",
    "    \"\"\"\n",
    "    Train KNN model using the training data.\n",
    "    \"\"\"\n",
    "    knn = KNeighborsClassifier()\n",
    "    knn.fit(X_train, y_train)\n",
    "    return knn\n",
    "\n",
    "\n",
    "def train_cnn(X_train, y_train):\n",
    "    \"\"\"\n",
    "    Train CNN model using the training data.\n",
    "    \"\"\"\n",
    "    X_train = X_train.reshape(X_train.shape[0], X_train.shape[1], 1)\n",
    "    cnn = Sequential()\n",
    "    cnn.add(Conv1D(64, 3, activation='relu', input_shape=(X_train.shape[1], 1)))\n",
    "    cnn.add(MaxPooling1D(pool_size=2))\n",
    "    cnn.add(Flatten())\n",
    "    cnn.add(Dense(1, activation='sigmoid'))\n",
    "    cnn.compile(optimizer='adam', loss='binary_crossentropy', metrics=['accuracy'])\n",
    "    cnn.fit(X_train, y_train, epochs=10, batch_size=32)\n",
    "    return cnn\n",
    "\n",
    "\n",
    "def train_lstm(X_train, y_train):\n",
    "    \"\"\"\n",
    "    Train LSTM model using the training data.\n",
    "    \"\"\"\n",
    "    X_train = X_train.reshape(X_train.shape[0], X_train.shape[1], 1)\n",
    "    lstm = Sequential()\n",
    "    lstm.add(LSTM(64, input_shape=(X_train.shape[1], 1)))\n",
    "    lstm.add(Dense(len(set(labels)), activation='softmax'))\n",
    "    lstm.compile(loss='sparse_categorical_crossentropy', optimizer='adam', metrics=['accuracy'])\n",
    "    lstm.fit(X_train, y_train, epochs=10, batch_size=32)\n",
    "    return lstm\n",
    "\n",
    "\n",
    "def train_model(model_type, X_train, y_train):\n",
    "    \"\"\"\n",
    "    Train model of given type using the training data.\n",
    "    \"\"\"\n",
    "    if model_type == 'svm':\n",
    "        model = train_svm(X_train, y_train)\n",
    "    elif model_type == 'knn':\n",
    "        model = train_knn(X_train, y_train)\n",
    "    elif model_type == 'cnn':\n",
    "        model = train_cnn(X_train, y_train)\n",
    "    elif model_type == 'lstm':\n",
    "        model = train_lstm(X_train, y_train)\n",
    "    else:\n",
    "        raise ValueError('Invalid model type.')\n",
    "    return model\n",
    "\n",
    "\n",
    "def test_model(model, X_test):\n",
    "    \"\"\"\n",
    "    Evaluate the trained model on the testing data.\n",
    "    \"\"\" \n",
    "    label = model.predict(X_test)\n",
    "    return label\n",
    "\n",
    "def evaluate_model(model, X_test, y_test):\n",
    "    \"\"\"\n",
    "    Evaluate the trained model on the testing data.\n",
    "    \"\"\" \n",
    "    score = model.score(X_test, y_test)\n",
    "    return score"
   ]
  },
  {
   "attachments": {},
   "cell_type": "markdown",
   "metadata": {},
   "source": [
    "### KNN and SVM"
   ]
  },
  {
   "cell_type": "code",
   "execution_count": 15,
   "metadata": {},
   "outputs": [
    {
     "data": {
      "text/plain": [
       "array([[ 68.43859937,  -1.92987234,  51.22177174, ...,  -1.79494799,\n",
       "          3.22758435,   0.58076856],\n",
       "       [ 39.02956366, -21.02311219,  40.74988003, ...,  -2.68764184,\n",
       "          3.60818802,  -0.30707196],\n",
       "       [ 66.6888808 , -11.21004105,  55.03500751, ...,   3.67480717,\n",
       "         -2.72142248,   0.9724728 ],\n",
       "       ...,\n",
       "       [-59.24840682,   1.88322156,  14.58508779, ...,  -0.83356719,\n",
       "          4.00803531,  -0.79819249],\n",
       "       [-63.48078592, -18.42784186,   8.8074445 , ...,   0.92434589,\n",
       "         -5.7447746 ,  -0.86156615],\n",
       "       [-61.65334091, -14.91787236,   7.57225032, ...,   0.43793094,\n",
       "          0.29896587,   0.17221776]])"
      ]
     },
     "execution_count": 15,
     "metadata": {},
     "output_type": "execute_result"
    }
   ],
   "source": [
    "flattened_amps = [np.array(amp).reshape(-1) for amp in amplitudes]\n",
    "scalar_obj, scaled_data = preprocess_data(flattened_amps)\n",
    "\n",
    "# Perform 10 components PCA\n",
    "n_components = 100\n",
    "pca_obj, pca_data = perform_pca(scaled_data,n_components)\n",
    "pca_data"
   ]
  },
  {
   "cell_type": "code",
   "execution_count": 16,
   "metadata": {},
   "outputs": [
    {
     "data": {
      "text/plain": [
       "(319, 16000)"
      ]
     },
     "execution_count": 16,
     "metadata": {},
     "output_type": "execute_result"
    }
   ],
   "source": [
    "np.array(scaled_data).shape"
   ]
  },
  {
   "cell_type": "code",
   "execution_count": null,
   "metadata": {},
   "outputs": [],
   "source": []
  },
  {
   "cell_type": "code",
   "execution_count": 18,
   "metadata": {},
   "outputs": [
    {
     "data": {
      "text/plain": [
       "(array(['Run', 'SitDown', 'StandUp', 'Walk'], dtype='<U7'),\n",
       " array([80, 80, 79, 80], dtype=int64))"
      ]
     },
     "execution_count": 18,
     "metadata": {},
     "output_type": "execute_result"
    }
   ],
   "source": [
    "np.unique(np.array(labels), return_counts=True)"
   ]
  },
  {
   "cell_type": "code",
   "execution_count": 19,
   "metadata": {},
   "outputs": [
    {
     "name": "stdout",
     "output_type": "stream",
     "text": [
      "[[ 2.96544597e+01 -3.89771378e+01  3.10130940e+01 ...  2.11949320e+00\n",
      "   7.39641143e-01 -1.26474526e+00]\n",
      " [-2.57655984e+01 -2.35217206e+01 -1.24828209e+01 ...  2.46526002e-02\n",
      "  -3.08107271e+00 -1.04703816e+00]\n",
      " [-6.85071318e+01 -3.47192309e+00 -5.41411045e+01 ... -4.00113956e+00\n",
      "   4.24128094e-01  1.36767929e-01]\n",
      " ...\n",
      " [ 8.56285620e+01 -1.62537530e+01  3.70464319e+01 ...  5.17174159e-01\n",
      "  -6.73338373e+00  1.75769256e+00]\n",
      " [-5.15579360e+01 -1.27042785e+01  3.53143329e+01 ... -1.39629976e+00\n",
      "   2.79594838e-01 -2.74731565e+00]\n",
      " [-3.10847501e+01  3.02952435e+01 -1.23202197e+01 ... -3.01169888e+00\n",
      "  -3.37484854e+00 -2.02076534e+00]]\n"
     ]
    }
   ],
   "source": [
    "X_train, X_test, y_train, y_test = train_test_split(pca_data, labels, test_size=0.25,stratify=labels)\n",
    "print(X_train)"
   ]
  },
  {
   "cell_type": "code",
   "execution_count": 20,
   "metadata": {},
   "outputs": [
    {
     "name": "stdout",
     "output_type": "stream",
     "text": [
      "0.9375\n"
     ]
    },
    {
     "data": {
      "text/plain": [
       "array([[16,  0,  0,  4],\n",
       "       [ 0, 20,  0,  0],\n",
       "       [ 0,  0, 19,  1],\n",
       "       [ 0,  0,  0, 20]], dtype=int64)"
      ]
     },
     "execution_count": 20,
     "metadata": {},
     "output_type": "execute_result"
    }
   ],
   "source": [
    "svm = train_model('svm', X_train, y_train)\n",
    "y_pred = test_model(svm, X_test)\n",
    "print(evaluate_model(svm, X_test, y_test))\n",
    "confusion_matrix(y_test, y_pred)"
   ]
  },
  {
   "cell_type": "code",
   "execution_count": 21,
   "metadata": {},
   "outputs": [
    {
     "name": "stdout",
     "output_type": "stream",
     "text": [
      "0.95\n"
     ]
    },
    {
     "data": {
      "text/plain": [
       "array([[17,  0,  3,  0],\n",
       "       [ 0, 20,  0,  0],\n",
       "       [ 0,  0, 20,  0],\n",
       "       [ 1,  0,  0, 19]], dtype=int64)"
      ]
     },
     "execution_count": 21,
     "metadata": {},
     "output_type": "execute_result"
    }
   ],
   "source": [
    "knn = train_model('knn', X_train, y_train)\n",
    "y_pred = test_model(knn, X_test)\n",
    "print(evaluate_model(knn, X_test, y_test))\n",
    "confusion_matrix(y_test, y_pred)"
   ]
  },
  {
   "cell_type": "code",
   "execution_count": null,
   "metadata": {},
   "outputs": [],
   "source": []
  },
  {
   "cell_type": "markdown",
   "metadata": {},
   "source": []
  },
  {
   "attachments": {},
   "cell_type": "markdown",
   "metadata": {},
   "source": [
    "### CNN"
   ]
  },
  {
   "cell_type": "code",
   "execution_count": 23,
   "metadata": {},
   "outputs": [
    {
     "data": {
      "text/plain": [
       "(319, 250, 64)"
      ]
     },
     "execution_count": 23,
     "metadata": {},
     "output_type": "execute_result"
    }
   ],
   "source": [
    "np.array(amplitudes).shape"
   ]
  },
  {
   "cell_type": "code",
   "execution_count": 24,
   "metadata": {},
   "outputs": [],
   "source": [
    "from sklearn.preprocessing import LabelEncoder\n",
    "\n",
    "le = LabelEncoder()\n",
    "label_val=le.fit_transform(labels)\n",
    "\n",
    "# le.inverse_transform(label_val)"
   ]
  },
  {
   "cell_type": "code",
   "execution_count": 25,
   "metadata": {},
   "outputs": [
    {
     "name": "stdout",
     "output_type": "stream",
     "text": [
      "(255, 250, 64) (64, 250, 64) (255,) (64,)\n",
      "(255, 250, 64, 1) (64, 250, 64, 1)\n"
     ]
    }
   ],
   "source": [
    "\n",
    "X_train, X_test, y_train, y_test = train_test_split(amplitudes, label_val, test_size=0.2,stratify=labels)\n",
    "\n",
    "print(np.array(X_train).shape, np.array(X_test).shape, np.array(y_train).shape, np.array(y_test).shape)\n",
    "\n",
    "X_train_shape = np.array(X_train).shape\n",
    "X_train = np.array(X_train).reshape(len(X_train), X_train_shape[1], X_train_shape[2],1)\n",
    "X_test = np.array(X_test).reshape(len(X_test), X_train_shape[1], X_train_shape[2],1)\n",
    "print(np.array(X_train).shape, np.array(X_test).shape)\n"
   ]
  },
  {
   "cell_type": "code",
   "execution_count": 26,
   "metadata": {},
   "outputs": [
    {
     "name": "stdout",
     "output_type": "stream",
     "text": [
      "Model: \"sequential\"\n",
      "_________________________________________________________________\n",
      " Layer (type)                Output Shape              Param #   \n",
      "=================================================================\n",
      " conv2d (Conv2D)             (None, 248, 62, 32)       320       \n",
      "                                                                 \n",
      " conv2d_1 (Conv2D)           (None, 246, 60, 8)        2312      \n",
      "                                                                 \n",
      " dropout (Dropout)           (None, 246, 60, 8)        0         \n",
      "                                                                 \n",
      " max_pooling2d (MaxPooling2D  (None, 123, 30, 8)       0         \n",
      " )                                                               \n",
      "                                                                 \n",
      " flatten (Flatten)           (None, 29520)             0         \n",
      "                                                                 \n",
      " dense (Dense)               (None, 100)               2952100   \n",
      "                                                                 \n",
      " dense_1 (Dense)             (None, 4)                 404       \n",
      "                                                                 \n",
      "=================================================================\n",
      "Total params: 2,955,136\n",
      "Trainable params: 2,955,136\n",
      "Non-trainable params: 0\n",
      "_________________________________________________________________\n"
     ]
    }
   ],
   "source": [
    "model = Sequential()\n",
    "model.add(Conv2D(filters=32, kernel_size=(3,3), activation='relu', input_shape=(X_train.shape[1],X_train.shape[2],1)))\n",
    "model.add(Conv2D(filters=8, kernel_size=(3,3), activation='relu'))\n",
    "model.add(Dropout(0.5))\n",
    "model.add(MaxPooling2D(pool_size=(2,2), strides=2, padding=\"same\"))\n",
    "model.add(Flatten())\n",
    "model.add(Dense(100, activation='relu'))\n",
    "model.add(Dense(len(set(labels)), activation='softmax'))\n",
    "# sparse_categorical_crossentropy\n",
    "model.compile(loss='sparse_categorical_crossentropy', optimizer='adam', metrics=['accuracy'])\n",
    "model.summary()"
   ]
  },
  {
   "cell_type": "code",
   "execution_count": 27,
   "metadata": {},
   "outputs": [],
   "source": [
    "from keras.callbacks import EarlyStopping, ModelCheckpoint, ReduceLROnPlateau\n",
    "import h5py\n",
    "\n",
    "# erl_stop = EarlyStopping(monitor='val_loss', patience=6, restore_best_weights=True)\n",
    "# mod_chk = ModelCheckpoint(filepath='/my_cnn_model.hdf5', monitor='val_loss', save_best_only=True)\n",
    "# lr_rate = ReduceLROnPlateau(monitor='val_loss', patience=3, factor=0.1)"
   ]
  },
  {
   "cell_type": "code",
   "execution_count": 28,
   "metadata": {},
   "outputs": [
    {
     "name": "stdout",
     "output_type": "stream",
     "text": [
      "(255, 250, 64, 1) (255,)\n",
      "(64, 250, 64, 1) (64,)\n"
     ]
    }
   ],
   "source": [
    "print(np.array(X_train).shape, np.array(y_train).shape)\n",
    "print(np.array(X_test).shape, np.array(y_test).shape)"
   ]
  },
  {
   "cell_type": "code",
   "execution_count": 29,
   "metadata": {},
   "outputs": [
    {
     "name": "stdout",
     "output_type": "stream",
     "text": [
      "Epoch 1/20\n",
      "8/8 [==============================] - 10s 938ms/step - loss: 91.1221 - accuracy: 0.2235 - val_loss: 4.6095 - val_accuracy: 0.2344\n",
      "Epoch 2/20\n",
      "8/8 [==============================] - 7s 897ms/step - loss: 3.6162 - accuracy: 0.2941 - val_loss: 1.3097 - val_accuracy: 0.4062\n",
      "Epoch 3/20\n",
      "8/8 [==============================] - 7s 864ms/step - loss: 1.2084 - accuracy: 0.4941 - val_loss: 1.2126 - val_accuracy: 0.6562\n",
      "Epoch 4/20\n",
      "8/8 [==============================] - 7s 887ms/step - loss: 0.8406 - accuracy: 0.7529 - val_loss: 1.0715 - val_accuracy: 0.6719\n",
      "Epoch 5/20\n",
      "8/8 [==============================] - 7s 933ms/step - loss: 0.5386 - accuracy: 0.8275 - val_loss: 1.0215 - val_accuracy: 0.7188\n",
      "Epoch 6/20\n",
      "8/8 [==============================] - 7s 909ms/step - loss: 0.4294 - accuracy: 0.8980 - val_loss: 1.3578 - val_accuracy: 0.7031\n"
     ]
    }
   ],
   "source": [
    "obtained_model = model.fit(np.array(X_train), np.array(y_train), epochs=20, batch_size = 32 , validation_data = (X_test, y_test),callbacks= EarlyStopping(monitor='val_loss'), verbose=1)"
   ]
  },
  {
   "cell_type": "code",
   "execution_count": 30,
   "metadata": {},
   "outputs": [
    {
     "data": {
      "image/png": "[encoded data removed]",
      "text/plain": [
       "<Figure size 640x480 with 1 Axes>"
      ]
     },
     "metadata": {},
     "output_type": "display_data"
    },
    {
     "data": {
      "image/png": "[encoded data removed]",
      "text/plain": [
       "<Figure size 640x480 with 1 Axes>"
      ]
     },
     "metadata": {},
     "output_type": "display_data"
    }
   ],
   "source": [
    "plt.plot(obtained_model.history['accuracy'])\n",
    "plt.plot(obtained_model.history['val_accuracy'])\n",
    "plt.legend([\"accuracy\",\"val_accuracy\"])\n",
    "plt.title('Accuracy Vs Val_Accuracy')\n",
    "plt.xlabel('Epoch')\n",
    "plt.ylabel('Accuracy')\n",
    "plt.show()\n",
    "\n",
    "plt.plot(obtained_model.history['loss'])\n",
    "plt.plot(obtained_model.history['val_loss'])\n",
    "plt.legend([\"loss\",\"val_loss\"])\n",
    "plt.title('Loss Vs Val_loss')\n",
    "plt.xlabel('Epoch')\n",
    "plt.ylabel('Loss')\n",
    "plt.show()"
   ]
  },
  {
   "cell_type": "code",
   "execution_count": 31,
   "metadata": {},
   "outputs": [],
   "source": [
    "### 1D CNN\n"
   ]
  },
  {
   "cell_type": "markdown",
   "metadata": {},
   "source": [
    "### LSTM"
   ]
  },
  {
   "cell_type": "code",
   "execution_count": 33,
   "metadata": {},
   "outputs": [
    {
     "name": "stdout",
     "output_type": "stream",
     "text": [
      "(255, 250, 64) (64, 250, 64) (255,) (64,)\n",
      "(255, 16000, 1) (64, 16000, 1)\n"
     ]
    }
   ],
   "source": [
    "X_train, X_test, y_train, y_test = train_test_split(amplitudes, label_val, test_size=0.2,stratify=labels)\n",
    "print(np.array(X_train).shape, np.array(X_test).shape, np.array(y_train).shape, np.array(y_test).shape)\n",
    "\n",
    "\n",
    "X_train_shape = np.array(X_train).shape\n",
    "X_train = np.array(X_train).reshape(len(X_train), -1, 1)\n",
    "X_test = np.array(X_test).reshape(len(X_test), -1, 1)\n",
    "print(np.array(X_train).shape, np.array(X_test).shape)\n"
   ]
  },
  {
   "cell_type": "code",
   "execution_count": 34,
   "metadata": {},
   "outputs": [
    {
     "name": "stdout",
     "output_type": "stream",
     "text": [
      "Epoch 1/10\n",
      "8/8 [==============================] - 115s 14s/step - loss: 1.4323 - accuracy: 0.2667\n",
      "Epoch 2/10\n",
      "8/8 [==============================] - 243s 32s/step - loss: 1.3943 - accuracy: 0.2627\n",
      "Epoch 3/10\n",
      "8/8 [==============================] - 239s 30s/step - loss: 1.3842 - accuracy: 0.2667\n",
      "Epoch 4/10\n",
      "8/8 [==============================] - 222s 28s/step - loss: 1.3828 - accuracy: 0.2392\n",
      "Epoch 5/10\n",
      "6/8 [=====================>........] - ETA: 1:02 - loss: 1.3861 - accuracy: 0.2604"
     ]
    }
   ],
   "source": [
    "# pca_data = np.array(pca_data)\n",
    "# X_train = pca_data.reshape(X_train.shape[0], X_train.shape[1], 1)\n",
    "lstm = Sequential()\n",
    "lstm.add(LSTM(64, input_shape=(X_train.shape[1], 1)))\n",
    "lstm.add(Dense(len(set(labels)), activation='softmax'))\n",
    "lstm.compile(loss='sparse_categorical_crossentropy', optimizer='adam', metrics=['accuracy'])\n",
    "lstm.fit(X_train, y_train, epochs=10, batch_size=32)\n"
   ]
  },
  {
   "cell_type": "code",
   "execution_count": null,
   "metadata": {},
   "outputs": [],
   "source": [
    "y_pred = lstm.predict(X_test)\n",
    "score(y_pred,y_test)"
   ]
  },
  {
   "cell_type": "code",
   "execution_count": null,
   "metadata": {},
   "outputs": [],
   "source": []
  },
  {
   "cell_type": "code",
   "execution_count": null,
   "metadata": {},
   "outputs": [],
   "source": []
  },
  {
   "cell_type": "markdown",
   "metadata": {},
   "source": [
    "## Our Data"
   ]
  },
  {
   "cell_type": "code",
   "execution_count": null,
   "metadata": {},
   "outputs": [],
   "source": [
    "jog = pd.read_csv(\"data/jog.csv\")\n",
    "walk = pd.read_csv(\"data/walk.csv\")\n",
    "print(jog[\"len\"].unique())\n",
    "print(walk[\"len\"].unique())\n",
    "\n",
    "# Check timestamp variance\n",
    "jog[\"local_timestamp\"]"
   ]
  },
  {
   "cell_type": "code",
   "execution_count": null,
   "metadata": {},
   "outputs": [],
   "source": [
    "## Data characteristics\n",
    "jog128 = jog[jog[\"len\"]==128]\n",
    "\n",
    "activity = jog128\n",
    "\n",
    "print(\"Signal Mode: \", activity[\"sig_mode\"].unique())\n",
    "print(\"Aggregration: \", activity[\"aggregation\"].unique())\n",
    "print(\"STBC: \", activity[\"stbc\"].unique())\n",
    "print(\"fec_coding: \", activity[\"fec_coding\"].unique())\n",
    "print(\"Bandwidth: \", activity[\"bandwidth\"].unique())\n",
    "print(\"ant: \", activity[\"ant\"].unique())\n",
    "print(\"signal length: \", activity[\"sig_len\"].unique())\n",
    "print(\"channel: \", activity[\"channel\"].unique())\n",
    "print(\"secondary channel: \", activity[\"secondary_channel\"].unique())\n",
    "print(\"Byte length: \", activity[\"len\"].unique())"
   ]
  },
  {
   "cell_type": "markdown",
   "metadata": {},
   "source": [
    "### Time differences of data samples Jog and Walk Our data"
   ]
  },
  {
   "cell_type": "code",
   "execution_count": null,
   "metadata": {},
   "outputs": [],
   "source": [
    "diffs = np.diff(jog[\"local_timestamp\"]/1000000)\n",
    "print(np.max(diffs),np.min(diffs),np.mean(diffs),np.std(diffs))\n",
    "\n",
    "plt.hist(diffs)\n",
    "plt.show()\n",
    "\n",
    "jog384 = jog[jog[\"len\"]==384]\n",
    "jog384"
   ]
  },
  {
   "cell_type": "markdown",
   "metadata": {},
   "source": [
    "### Extract amplitude and phase of the signal"
   ]
  },
  {
   "cell_type": "code",
   "execution_count": null,
   "metadata": {},
   "outputs": [],
   "source": [
    "import math\n",
    "\n",
    "total_amplitudes = []\n",
    "total_phases = []\n",
    "# csi_string = jog384[\"CSI_DATA\"].to_list()\n",
    "# csi_string = activity[\"data\"].to_list()   #new\n",
    "csi_string = jog384[\"CSI_DATA\"].tolist()\n",
    "\n",
    "for i, value in enumerate(csi_string):\n",
    "    imaginary = []\n",
    "    real = []\n",
    "    amplitudes = [] \n",
    "    phases = []\n",
    "    \n",
    "    if \"[\" in value:\n",
    "        # Remove [ and ] if exists\n",
    "        value = value.strip(\"[]\")\n",
    "\n",
    "        # Parse string to create integer list\n",
    "        csi_raw = [int(x) for x in value.split(\" \") if x != '']\n",
    "        # csi_raw = [float(x) for x in value.split(\",\") if x!='']  # New\n",
    "    else:\n",
    "        csi_raw = value\n",
    "\n",
    "    # Create list of imaginary and real numbers from CSI\n",
    "    [imaginary.append(csi_raw[item]) if item%2==0 else real.append(csi_raw[item]) for item in range(len(csi_raw))]\n",
    "\n",
    "    # Transform imaginary and real into amplitude and phase\n",
    "    val = int(len(csi_raw)//2)\n",
    "    for k in range(val):\n",
    "        amplitudes.append(round(math.sqrt(float(imaginary[k])** 2 + float(real[k])** 2),4))\n",
    "        phases.append(round(math.atan2(float(imaginary[k]), float(real[k])),4))\n",
    "    total_amplitudes.append(np.array(amplitudes).flatten())\n",
    "    total_phases.append(np.array(phases).flatten())\n",
    "    \n",
    "    print(\"-------------------\")\n",
    "    print(\"Csi_Amplitude#{}:\".format(i), amplitudes)\n",
    "    print(\"Csi_Phase#{}:    \".format(i), phases)\n",
    "\n",
    "\n",
    "## Amplitude Difference\n",
    "df = pd.DataFrame(np.vstack(total_amplitudes))\n",
    "diff_df = df.diff()[1:]   # Inorder to remove NaN values\n",
    "\n",
    "\n",
    "df1 = df.iloc[:,6:31]\n",
    "df2 = df.iloc[:,33:58]\n",
    "df3 = df.iloc[:,66:123]\n",
    "df4 = df.iloc[:,134:191]\n",
    "# # Remove 128\n",
    "# df.iloc[:,128]\n",
    "\n",
    "selected_df = pd.concat([df1,df2,df3,df4],axis=1)\n",
    "selected_df.columns = range(selected_df.shape[1])\n",
    "# selected_df.columns = [''] * len(selected_df.columns)\n",
    "selected_df"
   ]
  },
  {
   "cell_type": "code",
   "execution_count": null,
   "metadata": {},
   "outputs": [],
   "source": [
    "fig = plt.figure(figsize = (18,10))\n",
    "ax1 = plt.subplot(311)\n",
    "plt.imshow(selected_df.T,interpolation = \"nearest\", aspect = \"auto\", cmap=\"jet\")\n",
    "ax1.set_title(\"Antenna1 Amplitude\")\n",
    "plt.colorbar()"
   ]
  },
  {
   "cell_type": "code",
   "execution_count": null,
   "metadata": {},
   "outputs": [],
   "source": []
  },
  {
   "cell_type": "code",
   "execution_count": null,
   "metadata": {},
   "outputs": [],
   "source": []
  }
 ],
 "metadata": {
  "kernelspec": {
   "display_name": "base",
   "language": "python",
   "name": "python3"
  },
  "language_info": {
   "codemirror_mode": {
    "name": "ipython",
    "version": 3
   },
   "file_extension": ".py",
   "mimetype": "text/x-python",
   "name": "python",
   "nbconvert_exporter": "python",
   "pygments_lexer": "ipython3",
   "version": "3.8.16"
  },
  "orig_nbformat": 4
 },
 "nbformat": 4,
 "nbformat_minor": 2
}
